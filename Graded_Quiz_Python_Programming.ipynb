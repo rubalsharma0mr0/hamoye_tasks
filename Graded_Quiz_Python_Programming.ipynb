{
  "nbformat": 4,
  "nbformat_minor": 0,
  "metadata": {
    "colab": {
      "name": "Graded Quiz - Python Programming",
      "provenance": [],
      "collapsed_sections": [],
      "authorship_tag": "ABX9TyMXUrLGE95vNRLrOyqgK58k",
      "include_colab_link": true
    },
    "kernelspec": {
      "name": "python3",
      "display_name": "Python 3"
    },
    "language_info": {
      "name": "python"
    }
  },
  "cells": [
    {
      "cell_type": "markdown",
      "metadata": {
        "id": "view-in-github",
        "colab_type": "text"
      },
      "source": [
        "<a href=\"https://colab.research.google.com/github/rubalsharma0mr0/hamoye_tasks/blob/main/Graded_Quiz_Python_Programming.ipynb\" target=\"_parent\"><img src=\"https://colab.research.google.com/assets/colab-badge.svg\" alt=\"Open In Colab\"/></a>"
      ]
    },
    {
      "cell_type": "markdown",
      "source": [
        "#1"
      ],
      "metadata": {
        "id": "hho-BuaUbudu"
      }
    },
    {
      "cell_type": "code",
      "execution_count": null,
      "metadata": {
        "id": "eoXYuiINbUEf"
      },
      "outputs": [],
      "source": [
        "import pandas as pd\n",
        "\n",
        "lst = [[35, 'Portugal', 94], [33, 'Argentina', 93], [30 , 'Brazil', 92]]\n",
        "\n",
        "col = ['Age','Nationality','Overall']\n",
        "\n",
        "\n",
        "pd.DataFrame(lst, columns = col, index = [i for i in range(1,4)])"
      ]
    },
    {
      "cell_type": "markdown",
      "source": [
        "#2"
      ],
      "metadata": {
        "id": "yTY2IAnzb3Rw"
      }
    },
    {
      "cell_type": "code",
      "source": [
        "import numpy as np\n",
        "\n",
        "ruba = np.array([[94, 89, 63],\n",
        "             [93, 92, 48], \n",
        "             [92, 94, 56]])\n",
        "\n",
        "ruba[:2, 1:]"
      ],
      "metadata": {
        "id": "k8UfesC9biXR",
        "colab": {
          "base_uri": "https://localhost:8080/"
        },
        "outputId": "e03ac50f-ecbf-4846-e024-c06d0c4789a0"
      },
      "execution_count": 2,
      "outputs": [
        {
          "output_type": "execute_result",
          "data": {
            "text/plain": [
              "array([[89, 63],\n",
              "       [92, 48]])"
            ]
          },
          "metadata": {},
          "execution_count": 2
        }
      ]
    },
    {
      "cell_type": "code",
      "source": [
        "S = [['him', 'sell'], [90, 28, 43]]\n",
        "\n",
        "S[0][1][1]"
      ],
      "metadata": {
        "id": "ThKLtuA4b_jI",
        "colab": {
          "base_uri": "https://localhost:8080/",
          "height": 35
        },
        "outputId": "8addcdea-5177-4160-db06-164cfad2d3a2"
      },
      "execution_count": 3,
      "outputs": [
        {
          "output_type": "execute_result",
          "data": {
            "application/vnd.google.colaboratory.intrinsic+json": {
              "type": "string"
            },
            "text/plain": [
              "'e'"
            ]
          },
          "metadata": {},
          "execution_count": 3
        }
      ]
    },
    {
      "cell_type": "code",
      "source": [
        "my_tuppy = (1,2,5,8)\n",
        "\n",
        "my_tuppy[2] = 6"
      ],
      "metadata": {
        "id": "-aB83vIg4jKd"
      },
      "execution_count": null,
      "outputs": []
    },
    {
      "cell_type": "code",
      "source": [
        "y = [(2, 4), (7, 8), (1, 5, 9)]\n",
        "x = y[1][-1]\n",
        "x"
      ],
      "metadata": {
        "id": "noekvKVK4lx8"
      },
      "execution_count": null,
      "outputs": []
    },
    {
      "cell_type": "code",
      "source": [
        "csv_df = pd.read_csv('/content/Book1.csv',encoding='latin-1')\n",
        "csv_df.to_csv('/content/Book1.csv', index = False)\n",
        "csv_df"
      ],
      "metadata": {
        "id": "uf4ijjVc403a"
      },
      "execution_count": null,
      "outputs": []
    },
    {
      "cell_type": "code",
      "source": [
        "\"\"\"\n",
        "Answer the following questions based on the African food production dataset provided by the FAO website already provided\n",
        "What is the total sum of Animal Fat produced in 2014 and 2017 respectively?\n",
        "Hint: Perform a groupby sum aggregation on 'Item'\n",
        "\"\"\"\n",
        "csv_df.groupby(['Item']).sum()"
      ],
      "metadata": {
        "id": "pGBJuXJb5tqh"
      },
      "execution_count": null,
      "outputs": []
    },
    {
      "cell_type": "code",
      "source": [
        "# What is the mean and standard deviation across the whole dataset for the year 2015 to 3 decimal places?\n",
        "r = csv_df['Y2015'].mean()\n",
        "print(round(r,3))\n",
        "p = csv_df['Y2015'].std()\n",
        "round(p,3)"
      ],
      "metadata": {
        "colab": {
          "base_uri": "https://localhost:8080/"
        },
        "id": "R7r92JNw6Bw9",
        "outputId": "ef44629d-58c8-41de-a682-8cc8567eee63"
      },
      "execution_count": 63,
      "outputs": [
        {
          "output_type": "stream",
          "name": "stdout",
          "text": [
            "135.236\n"
          ]
        },
        {
          "output_type": "execute_result",
          "data": {
            "text/plain": [
              "1603.404"
            ]
          },
          "metadata": {},
          "execution_count": 63
        }
      ]
    },
    {
      "cell_type": "code",
      "source": [
        "#What is the total number and percentage of missing data in 2016 to 2 decimal places?\n",
        "\n",
        "miss_summ = csv_df['Y2016'].isnull().sum()\n",
        "per = csv_df['Y2016'].isnull().sum()*100/len(csv_df)\n",
        "per_r = round(per,2)\n",
        "print(miss_summ,per_r)"
      ],
      "metadata": {
        "colab": {
          "base_uri": "https://localhost:8080/"
        },
        "id": "KYgZHrAI_0uh",
        "outputId": "2a7a935f-0d28-4d2f-d887-70dee646cd25"
      },
      "execution_count": 70,
      "outputs": [
        {
          "output_type": "stream",
          "name": "stdout",
          "text": [
            "1535 2.52\n"
          ]
        }
      ]
    },
    {
      "cell_type": "code",
      "source": [
        "#Which year had the highest correlation with ‘Element Code’? \n",
        "\n",
        "csv_df.corr()\n",
        "#csv_df.groupby(['Element Code','Y2014','Y2015','Y2016','Y2018']).idxmax()"
      ],
      "metadata": {
        "id": "Ew3kM1w0CeA_"
      },
      "execution_count": null,
      "outputs": []
    },
    {
      "cell_type": "code",
      "source": [
        "\"\"\"\n",
        "What year has the highest sum of Import Quantity?\n",
        "\n",
        "Hint- Perform a groupby operation on ‘Element’ and use the resulting Dataframe to answer the question\n",
        "\"\"\"\n",
        "csv_df.groupby(['Element']).sum()\n"
      ],
      "metadata": {
        "id": "MB0AAJWTEb9e"
      },
      "execution_count": null,
      "outputs": []
    },
    {
      "cell_type": "code",
      "source": [
        "\"\"\"\n",
        "What is the total number of the sum of Production in 2014?\n",
        "\n",
        "Hint- Perform a groupby operation on ‘Element’ and use the resulting Dataframe to answer the question\n",
        "\"\"\"\n",
        "csv_df.groupby(['Element']).sum()"
      ],
      "metadata": {
        "id": "rixM8_yDHPwI"
      },
      "execution_count": null,
      "outputs": []
    },
    {
      "cell_type": "code",
      "source": [
        "\"\"\"\n",
        "Which of these elements had the highest sum in 2018?\n",
        "\n",
        "Hint-  Select columns ‘Y2018’ and ‘Element’, Perform a groupby operation on ‘Element’ on the selected dataframe and answer the  question.\n",
        "\n",
        "Which of these elements had the 3rd lowest sum in 2018?\n",
        "\n",
        "Hint-  Select columns ‘Y2018’ and ‘Element’, Perform a groupby operation on ‘Element’ on the selected dataframe and answer the  question.  \n",
        "\"\"\"\n",
        "csv_df[['Element','Y2018']].groupby('Element').sum()\n"
      ],
      "metadata": {
        "id": "YUkSJUbFPd45"
      },
      "execution_count": null,
      "outputs": []
    },
    {
      "cell_type": "code",
      "source": [
        "#What is the total Import Quantity in Algeria in 2018?\n",
        "csv_df.groupby(['Area','Element']).sum()"
      ],
      "metadata": {
        "id": "uU70K80PXsZ_"
      },
      "execution_count": null,
      "outputs": []
    },
    {
      "cell_type": "code",
      "source": [
        "#What is the total number of unique countries in the dataset?\n",
        "csv_df.Area.nunique(dropna = True)"
      ],
      "metadata": {
        "colab": {
          "base_uri": "https://localhost:8080/"
        },
        "id": "6sog0TNpYMeP",
        "outputId": "3f627cad-fa6a-4c30-c9bb-f69df1b6295f"
      },
      "execution_count": 165,
      "outputs": [
        {
          "output_type": "execute_result",
          "data": {
            "text/plain": [
              "49"
            ]
          },
          "metadata": {},
          "execution_count": 165
        }
      ]
    },
    {
      "cell_type": "code",
      "source": [
        ""
      ],
      "metadata": {
        "id": "tQS-IhgUZyMR"
      },
      "execution_count": null,
      "outputs": []
    }
  ]
}